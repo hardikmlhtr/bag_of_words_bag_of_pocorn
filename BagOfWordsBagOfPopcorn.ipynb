{
 "cells": [
  {
   "cell_type": "code",
   "execution_count": null,
   "metadata": {},
   "outputs": [],
   "source": [
    "# !pip install scikit-learn\n",
    "# !pip install gensim\n",
    "# !pip install nltk\n",
    "# !pip install BeautifulSoup4\n",
    "# !pip install pandas"
   ]
  },
  {
   "cell_type": "code",
   "execution_count": 1,
   "metadata": {},
   "outputs": [],
   "source": [
    "from sklearn.feature_extraction.text import CountVectorizer\n",
    "from sklearn.metrics import accuracy_score,f1_score,confusion_matrix\n",
    "from sklearn.model_selection import train_test_split\n",
    "from sklearn.ensemble import RandomForestClassifier\n",
    "from sklearn.model_selection import train_test_split\n",
    "from gensim.models import word2vec\n",
    "from gensim.models import Word2Vec\n",
    "from sklearn.cluster import KMeans\n",
    "from nltk.corpus import stopwords\n",
    "from bs4 import BeautifulSoup\n",
    "import pandas as pd\n",
    "import numpy as np\n",
    "import logging\n",
    "import nltk\n",
    "import time\n",
    "import re\n",
    "# nltk.download()"
   ]
  },
  {
   "cell_type": "code",
   "execution_count": 2,
   "metadata": {},
   "outputs": [],
   "source": [
    "USE_ADDED_DATA = 1"
   ]
  },
  {
   "cell_type": "markdown",
   "metadata": {},
   "source": [
    "## Load data"
   ]
  },
  {
   "cell_type": "code",
   "execution_count": 3,
   "metadata": {},
   "outputs": [
    {
     "name": "stderr",
     "output_type": "stream",
     "text": [
      "/Users/hardikmalhotra/anaconda2/envs/scikit/lib/python3.7/site-packages/ipykernel_launcher.py:12: FutureWarning: Sorting because non-concatenation axis is not aligned. A future version\n",
      "of pandas will change to not sort by default.\n",
      "\n",
      "To accept the future behavior, pass 'sort=False'.\n",
      "\n",
      "To retain the current behavior and silence the warning, pass 'sort=True'.\n",
      "\n",
      "  if sys.path[0] == '':\n"
     ]
    }
   ],
   "source": [
    "train_labelled = pd.read_csv(\"word2vec-nlp-tutorial/labeledTrainData.tsv\", delimiter=\"\\t\")\n",
    "df2 = pd.read_csv('imdb_master.csv',encoding=\"latin-1\")\n",
    "\n",
    "df2 = df2.drop(['Unnamed: 0','type','file'],axis=1)\n",
    "df2.columns = [\"review\",\"sentiment\"]\n",
    "df2 = df2[df2.sentiment != 'unsup']\n",
    "df2['sentiment'] = df2['sentiment'].map({'pos': 1, 'neg': 0})\n",
    "\n",
    "train = train_labelled.copy()\n",
    "train = train.drop(['id'], axis=1)\n",
    "\n",
    "train_added_data = pd.concat([train, df2]).reset_index(drop=True)"
   ]
  },
  {
   "cell_type": "code",
   "execution_count": 4,
   "metadata": {},
   "outputs": [],
   "source": [
    "train_data = train_added_data if USE_ADDED_DATA else train"
   ]
  },
  {
   "cell_type": "code",
   "execution_count": 5,
   "metadata": {},
   "outputs": [],
   "source": [
    "stops = set(stopwords.words(\"english\"))\n",
    "\n",
    "def review_to_words( raw_review ):\n",
    "    # Function to convert a raw review to a string of words\n",
    "    # The input is a single string (a raw movie review), and \n",
    "    # the output is a single string (a preprocessed movie review)\n",
    "    #\n",
    "    # 1. Remove HTML\n",
    "    review_text = BeautifulSoup(raw_review).get_text() \n",
    "    #\n",
    "    # 2. Remove non-letters        \n",
    "    letters_only = re.sub(\"[^a-zA-Z]\", \" \", review_text) \n",
    "    #\n",
    "    # 3. Convert to lower case, split into individual words\n",
    "    words = letters_only.lower().split()                                               \n",
    "    # \n",
    "    # 5. Remove stop words\n",
    "    meaningful_words = [w for w in words if not w in stops]   \n",
    "    #\n",
    "    # 6. Join the words back into one string separated by space, \n",
    "    # and return the result.\n",
    "    return( \" \".join( meaningful_words ))\n",
    "\n",
    "def get_clean_reviews(dataset):\n",
    "    # Get the number of reviews based on the dataframe column size\n",
    "    num_reviews = dataset[\"review\"].size\n",
    "\n",
    "    print (\"Cleaning and parsing the training set movie reviews...\\n\")\n",
    "    clean_train_reviews = []\n",
    "    for i in range( 0, num_reviews ):\n",
    "        # If the index is evenly divisible by 1000, print a message\n",
    "        if( (i+1)%1000 == 0 ):\n",
    "            print (\"Review %d of %d\\n\" % ( i+1, num_reviews ) )                                                                  \n",
    "        clean_train_reviews.append( review_to_words( dataset[\"review\"][i] ))\n",
    "        \n",
    "    return clean_train_reviews\n",
    "\n",
    "vectorizer = CountVectorizer(analyzer = \"word\",   \\\n",
    "                             tokenizer = None,    \\\n",
    "                             preprocessor = None, \\\n",
    "                             stop_words = None,   \\\n",
    "                             max_features = 6000) "
   ]
  },
  {
   "cell_type": "code",
   "execution_count": 6,
   "metadata": {
    "scrolled": true
   },
   "outputs": [
    {
     "name": "stdout",
     "output_type": "stream",
     "text": [
      "Cleaning and parsing the training set movie reviews...\n",
      "\n",
      "Review 1000 of 75000\n",
      "\n",
      "Review 2000 of 75000\n",
      "\n",
      "Review 3000 of 75000\n",
      "\n",
      "Review 4000 of 75000\n",
      "\n",
      "Review 5000 of 75000\n",
      "\n",
      "Review 6000 of 75000\n",
      "\n",
      "Review 7000 of 75000\n",
      "\n",
      "Review 8000 of 75000\n",
      "\n",
      "Review 9000 of 75000\n",
      "\n",
      "Review 10000 of 75000\n",
      "\n",
      "Review 11000 of 75000\n",
      "\n",
      "Review 12000 of 75000\n",
      "\n",
      "Review 13000 of 75000\n",
      "\n",
      "Review 14000 of 75000\n",
      "\n",
      "Review 15000 of 75000\n",
      "\n",
      "Review 16000 of 75000\n",
      "\n",
      "Review 17000 of 75000\n",
      "\n",
      "Review 18000 of 75000\n",
      "\n",
      "Review 19000 of 75000\n",
      "\n",
      "Review 20000 of 75000\n",
      "\n",
      "Review 21000 of 75000\n",
      "\n",
      "Review 22000 of 75000\n",
      "\n",
      "Review 23000 of 75000\n",
      "\n",
      "Review 24000 of 75000\n",
      "\n",
      "Review 25000 of 75000\n",
      "\n",
      "Review 26000 of 75000\n",
      "\n",
      "Review 27000 of 75000\n",
      "\n",
      "Review 28000 of 75000\n",
      "\n",
      "Review 29000 of 75000\n",
      "\n",
      "Review 30000 of 75000\n",
      "\n",
      "Review 31000 of 75000\n",
      "\n",
      "Review 32000 of 75000\n",
      "\n",
      "Review 33000 of 75000\n",
      "\n",
      "Review 34000 of 75000\n",
      "\n",
      "Review 35000 of 75000\n",
      "\n",
      "Review 36000 of 75000\n",
      "\n",
      "Review 37000 of 75000\n",
      "\n",
      "Review 38000 of 75000\n",
      "\n",
      "Review 39000 of 75000\n",
      "\n",
      "Review 40000 of 75000\n",
      "\n",
      "Review 41000 of 75000\n",
      "\n",
      "Review 42000 of 75000\n",
      "\n",
      "Review 43000 of 75000\n",
      "\n",
      "Review 44000 of 75000\n",
      "\n",
      "Review 45000 of 75000\n",
      "\n",
      "Review 46000 of 75000\n",
      "\n",
      "Review 47000 of 75000\n",
      "\n",
      "Review 48000 of 75000\n",
      "\n",
      "Review 49000 of 75000\n",
      "\n",
      "Review 50000 of 75000\n",
      "\n",
      "Review 51000 of 75000\n",
      "\n",
      "Review 52000 of 75000\n",
      "\n",
      "Review 53000 of 75000\n",
      "\n",
      "Review 54000 of 75000\n",
      "\n",
      "Review 55000 of 75000\n",
      "\n",
      "Review 56000 of 75000\n",
      "\n",
      "Review 57000 of 75000\n",
      "\n",
      "Review 58000 of 75000\n",
      "\n",
      "Review 59000 of 75000\n",
      "\n",
      "Review 60000 of 75000\n",
      "\n",
      "Review 61000 of 75000\n",
      "\n",
      "Review 62000 of 75000\n",
      "\n",
      "Review 63000 of 75000\n",
      "\n",
      "Review 64000 of 75000\n",
      "\n",
      "Review 65000 of 75000\n",
      "\n",
      "Review 66000 of 75000\n",
      "\n",
      "Review 67000 of 75000\n",
      "\n",
      "Review 68000 of 75000\n",
      "\n",
      "Review 69000 of 75000\n",
      "\n",
      "Review 70000 of 75000\n",
      "\n",
      "Review 71000 of 75000\n",
      "\n",
      "Review 72000 of 75000\n",
      "\n",
      "Review 73000 of 75000\n",
      "\n",
      "Review 74000 of 75000\n",
      "\n",
      "Review 75000 of 75000\n",
      "\n",
      "Vectorizing clean reviews\n"
     ]
    },
    {
     "data": {
      "text/plain": [
       "(75000, 6000)"
      ]
     },
     "execution_count": 6,
     "metadata": {},
     "output_type": "execute_result"
    }
   ],
   "source": [
    "clean_reviews = get_clean_reviews(train_data)\n",
    "print(\"Vectorizing clean reviews\")\n",
    "train_data_features = vectorizer.fit_transform(clean_reviews)\n",
    "train_data_features = train_data_features.toarray()\n",
    "\n",
    "train_data_features.shape"
   ]
  },
  {
   "cell_type": "markdown",
   "metadata": {},
   "source": [
    "## Evaluation on train and val data"
   ]
  },
  {
   "cell_type": "code",
   "execution_count": 7,
   "metadata": {},
   "outputs": [],
   "source": [
    "def evaluate_train_val(train_data_features, train_data):\n",
    "    x_train,x_test,y_train,y_test=train_test_split(train_data_features,train_data[\"sentiment\"],test_size=0.2,random_state=0)\n",
    "    print(\"Splitting Done\")\n",
    "\n",
    "    forest = RandomForestClassifier(n_estimators = 100) \n",
    "\n",
    "    forest = forest.fit(x_train, y_train )\n",
    "\n",
    "    result = forest.predict(x_test)\n",
    "    print(\"Predictions Done\")\n",
    "\n",
    "    accuracy=accuracy_score(y_test,result)\n",
    "\n",
    "    cm =confusion_matrix(y_test,result)\n",
    "\n",
    "    f1 =f1_score(y_test,result)\n",
    "\n",
    "    print(\"f1 : {f1}\\ncm :\\n {cm}\\naccuracy : {acc}\".format(f1 = f1, cm = cm, acc = accuracy))"
   ]
  },
  {
   "cell_type": "code",
   "execution_count": 8,
   "metadata": {},
   "outputs": [
    {
     "name": "stdout",
     "output_type": "stream",
     "text": [
      "Splitting Done\n",
      "Predictions Done\n",
      "f1 : 0.9327641408751334\n",
      "cm :\n",
      " [[7000  483]\n",
      " [ 525 6992]]\n",
      "accuracy : 0.9328\n"
     ]
    }
   ],
   "source": [
    "evaluate_train_val(train_data_features, train_data)"
   ]
  },
  {
   "cell_type": "markdown",
   "metadata": {},
   "source": [
    "## Supervised learning with Bag of Words"
   ]
  },
  {
   "cell_type": "code",
   "execution_count": 9,
   "metadata": {},
   "outputs": [],
   "source": [
    "forest = RandomForestClassifier(n_estimators = 100) \n",
    "\n",
    "forest = forest.fit( train_data_features, train_data[\"sentiment\"] )"
   ]
  },
  {
   "cell_type": "markdown",
   "metadata": {},
   "source": [
    "## predict on test"
   ]
  },
  {
   "cell_type": "code",
   "execution_count": 10,
   "metadata": {
    "scrolled": true
   },
   "outputs": [
    {
     "name": "stdout",
     "output_type": "stream",
     "text": [
      "Cleaning and parsing the training set movie reviews...\n",
      "\n",
      "Review 1000 of 25000\n",
      "\n",
      "Review 2000 of 25000\n",
      "\n",
      "Review 3000 of 25000\n",
      "\n",
      "Review 4000 of 25000\n",
      "\n",
      "Review 5000 of 25000\n",
      "\n",
      "Review 6000 of 25000\n",
      "\n",
      "Review 7000 of 25000\n",
      "\n",
      "Review 8000 of 25000\n",
      "\n",
      "Review 9000 of 25000\n",
      "\n",
      "Review 10000 of 25000\n",
      "\n",
      "Review 11000 of 25000\n",
      "\n",
      "Review 12000 of 25000\n",
      "\n",
      "Review 13000 of 25000\n",
      "\n",
      "Review 14000 of 25000\n",
      "\n",
      "Review 15000 of 25000\n",
      "\n",
      "Review 16000 of 25000\n",
      "\n",
      "Review 17000 of 25000\n",
      "\n",
      "Review 18000 of 25000\n",
      "\n",
      "Review 19000 of 25000\n",
      "\n",
      "Review 20000 of 25000\n",
      "\n",
      "Review 21000 of 25000\n",
      "\n",
      "Review 22000 of 25000\n",
      "\n",
      "Review 23000 of 25000\n",
      "\n",
      "Review 24000 of 25000\n",
      "\n",
      "Review 25000 of 25000\n",
      "\n"
     ]
    }
   ],
   "source": [
    "# Read the test data\n",
    "test = pd.read_csv(\"word2vec-nlp-tutorial/testData.tsv\", header=0, delimiter=\"\\t\")\n",
    "\n",
    "test_clean_reviews = get_clean_reviews(test)\n",
    "test_data_features = vectorizer.transform(test_clean_reviews)\n",
    "\n",
    "result = forest.predict(test_data_features)\n",
    "\n",
    "output = pd.DataFrame( data={\"id\":test[\"id\"], \"sentiment\":result} )\n",
    "output.to_csv( \"submissions/Bag_of_Words_model_added_data.csv\", index=False, quoting=3 )"
   ]
  },
  {
   "cell_type": "markdown",
   "metadata": {},
   "source": [
    "## train word2vec"
   ]
  },
  {
   "cell_type": "code",
   "execution_count": 11,
   "metadata": {},
   "outputs": [
    {
     "name": "stdout",
     "output_type": "stream",
     "text": [
      "Read 25000 labeled train reviews, 25000 labeled test reviews, and 50000 unlabeled reviews\n",
      "\n"
     ]
    }
   ],
   "source": [
    "# Read data from files \n",
    "unlabeled_train = pd.read_csv( \"word2vec-nlp-tutorial/unlabeledTrainData.tsv\", header=0, delimiter=\"\\t\", quoting=3 )\n",
    "\n",
    "# Verify the number of reviews that were read (100,000 in total)\n",
    "print (\"Read %d labeled train reviews, %d labeled test reviews, \" \\\n",
    " \"and %d unlabeled reviews\\n\" % (train[\"review\"].size,  \n",
    " test[\"review\"].size, unlabeled_train[\"review\"].size ))"
   ]
  },
  {
   "cell_type": "code",
   "execution_count": 12,
   "metadata": {},
   "outputs": [
    {
     "name": "stdout",
     "output_type": "stream",
     "text": [
      "Parsing sentences from training set\n"
     ]
    },
    {
     "name": "stderr",
     "output_type": "stream",
     "text": [
      "/Users/hardikmalhotra/.local/lib/python3.7/site-packages/bs4/__init__.py:294: UserWarning: \"b'.'\" looks like a filename, not markup. You should probably open this file and pass the filehandle into Beautiful Soup.\n",
      "  ' Beautiful Soup.' % markup)\n",
      "/Users/hardikmalhotra/.local/lib/python3.7/site-packages/bs4/__init__.py:357: UserWarning: \"http://www.happierabroad.com\" looks like a URL. Beautiful Soup is not an HTTP client. You should probably use an HTTP client like requests to get the document behind the URL, and feed that document to Beautiful Soup.\n",
      "  ' that document to Beautiful Soup.' % decoded_markup\n"
     ]
    },
    {
     "name": "stdout",
     "output_type": "stream",
     "text": [
      "Parsing sentences from unlabeled set\n"
     ]
    },
    {
     "name": "stderr",
     "output_type": "stream",
     "text": [
      "/Users/hardikmalhotra/.local/lib/python3.7/site-packages/bs4/__init__.py:357: UserWarning: \"http://www.archive.org/details/LovefromaStranger\"\" looks like a URL. Beautiful Soup is not an HTTP client. You should probably use an HTTP client like requests to get the document behind the URL, and feed that document to Beautiful Soup.\n",
      "  ' that document to Beautiful Soup.' % decoded_markup\n",
      "/Users/hardikmalhotra/.local/lib/python3.7/site-packages/bs4/__init__.py:357: UserWarning: \"http://www.loosechangeguide.com/LooseChangeGuide.html\"\" looks like a URL. Beautiful Soup is not an HTTP client. You should probably use an HTTP client like requests to get the document behind the URL, and feed that document to Beautiful Soup.\n",
      "  ' that document to Beautiful Soup.' % decoded_markup\n",
      "/Users/hardikmalhotra/.local/lib/python3.7/site-packages/bs4/__init__.py:357: UserWarning: \"http://www.msnbc.msn.com/id/4972055/site/newsweek/\"\" looks like a URL. Beautiful Soup is not an HTTP client. You should probably use an HTTP client like requests to get the document behind the URL, and feed that document to Beautiful Soup.\n",
      "  ' that document to Beautiful Soup.' % decoded_markup\n",
      "/Users/hardikmalhotra/.local/lib/python3.7/site-packages/bs4/__init__.py:294: UserWarning: \"b'..'\" looks like a filename, not markup. You should probably open this file and pass the filehandle into Beautiful Soup.\n",
      "  ' Beautiful Soup.' % markup)\n",
      "/Users/hardikmalhotra/.local/lib/python3.7/site-packages/bs4/__init__.py:357: UserWarning: \"http://www.youtube.com/watch?v=a0KSqelmgN8\"\" looks like a URL. Beautiful Soup is not an HTTP client. You should probably use an HTTP client like requests to get the document behind the URL, and feed that document to Beautiful Soup.\n",
      "  ' that document to Beautiful Soup.' % decoded_markup\n",
      "/Users/hardikmalhotra/.local/lib/python3.7/site-packages/bs4/__init__.py:357: UserWarning: \"http://jake-weird.blogspot.com/2007/08/beneath.html\"\" looks like a URL. Beautiful Soup is not an HTTP client. You should probably use an HTTP client like requests to get the document behind the URL, and feed that document to Beautiful Soup.\n",
      "  ' that document to Beautiful Soup.' % decoded_markup\n"
     ]
    }
   ],
   "source": [
    "def review_to_wordlist( review, remove_stopwords=False ):\n",
    "    # Function to convert a document to a sequence of words,\n",
    "    # optionally removing stop words.  Returns a list of words.\n",
    "    #\n",
    "    # 1. Remove HTML\n",
    "    review_text = BeautifulSoup(review).get_text()\n",
    "    #  \n",
    "    # 2. Remove non-letters\n",
    "    review_text = re.sub(\"[^a-zA-Z]\",\" \", review_text)\n",
    "    #\n",
    "    # 3. Convert words to lower case and split them\n",
    "    words = review_text.lower().split()\n",
    "    #\n",
    "    # 4. Optionally remove stop words (false by default)\n",
    "    if remove_stopwords:\n",
    "        stops = set(stopwords.words(\"english\"))\n",
    "        words = [w for w in words if not w in stops]\n",
    "    #\n",
    "    # 5. Return a list of words\n",
    "    return(words)\n",
    "\n",
    "# Load the punkt tokenizer\n",
    "tokenizer = nltk.data.load('tokenizers/punkt/english.pickle')\n",
    "\n",
    "# Define a function to split a review into parsed sentences\n",
    "def review_to_sentences( review, tokenizer, remove_stopwords=False ):\n",
    "    # Function to split a review into parsed sentences. Returns a \n",
    "    # list of sentences, where each sentence is a list of words\n",
    "    #\n",
    "    # 1. Use the NLTK tokenizer to split the paragraph into sentences\n",
    "    raw_sentences = tokenizer.tokenize(review.strip())\n",
    "    #\n",
    "    # 2. Loop over each sentence\n",
    "    sentences = []\n",
    "    for raw_sentence in raw_sentences:\n",
    "        # If a sentence is empty, skip it\n",
    "        if len(raw_sentence) > 0:\n",
    "            # Otherwise, call review_to_wordlist to get a list of words\n",
    "            sentences.append( review_to_wordlist( raw_sentence, \\\n",
    "              remove_stopwords ))\n",
    "    #\n",
    "    # Return the list of sentences (each sentence is a list of words,\n",
    "    # so this returns a list of lists\n",
    "    return sentences\n",
    "\n",
    "sentences = []  # Initialize an empty list of sentences\n",
    "\n",
    "print(\"Parsing sentences from training set\")\n",
    "for review in train[\"review\"]:\n",
    "    sentences += review_to_sentences(review, tokenizer)\n",
    "\n",
    "print (\"Parsing sentences from unlabeled set\")\n",
    "for review in unlabeled_train[\"review\"]:\n",
    "    sentences += review_to_sentences(review, tokenizer)\n",
    "    \n",
    "for review in df2[\"review\"]:\n",
    "    sentences += review_to_sentences(review, tokenizer)\n",
    "    \n",
    "    \n",
    "logging.basicConfig(format='%(asctime)s : %(levelname)s : %(message)s',\\\n",
    "    level=logging.INFO)\n",
    "\n",
    "# Set values for various parameters\n",
    "num_features = 300    # Word vector dimensionality                      \n",
    "min_word_count = 40   # Minimum word count                        \n",
    "num_workers = 4       # Number of threads to run in parallel\n",
    "context = 10          # Context window size                                                                                    \n",
    "downsampling = 1e-3   # Downsample setting for frequent words\n",
    "\n",
    "# Initialize and train the model (this will take some time)\n",
    "print (\"Training model...\")\n",
    "model = word2vec.Word2Vec(sentences, workers=num_workers, \\\n",
    "            size=num_features, min_count = min_word_count, \\\n",
    "            window = context, sample = downsampling)\n",
    "\n",
    "# If you don't plan to train the model any further, calling \n",
    "# init_sims will make the model much more memory-efficient.\n",
    "model.init_sims(replace=True)\n",
    "\n",
    "# It can be helpful to create a meaningful model name and \n",
    "# save the model for later use. You can load it later using Word2Vec.load()\n",
    "model_name = \"models/300features_40minwords_10context_added_data\"\n",
    "model.save(model_name)"
   ]
  },
  {
   "cell_type": "code",
   "execution_count": null,
   "metadata": {},
   "outputs": [],
   "source": [
    "model = Word2vec.load(\"models/300features_40minwords_10context_added_data\")"
   ]
  },
  {
   "cell_type": "markdown",
   "metadata": {},
   "source": [
    "## Review -> features "
   ]
  },
  {
   "cell_type": "code",
   "execution_count": 14,
   "metadata": {
    "scrolled": true
   },
   "outputs": [
    {
     "name": "stdout",
     "output_type": "stream",
     "text": [
      "Review 0 of 75000 \n"
     ]
    },
    {
     "name": "stderr",
     "output_type": "stream",
     "text": [
      "/Users/hardikmalhotra/anaconda2/envs/scikit/lib/python3.7/site-packages/ipykernel_launcher.py:19: DeprecationWarning: Call to deprecated `__getitem__` (Method will be removed in 4.0.0, use self.wv.__getitem__() instead).\n"
     ]
    },
    {
     "name": "stdout",
     "output_type": "stream",
     "text": [
      "Review 1000 of 75000 \n",
      "Review 2000 of 75000 \n",
      "Review 3000 of 75000 \n",
      "Review 4000 of 75000 \n",
      "Review 5000 of 75000 \n",
      "Review 6000 of 75000 \n",
      "Review 7000 of 75000 \n",
      "Review 8000 of 75000 \n",
      "Review 9000 of 75000 \n",
      "Review 10000 of 75000 \n",
      "Review 11000 of 75000 \n",
      "Review 12000 of 75000 \n",
      "Review 13000 of 75000 \n",
      "Review 14000 of 75000 \n",
      "Review 15000 of 75000 \n",
      "Review 16000 of 75000 \n",
      "Review 17000 of 75000 \n",
      "Review 18000 of 75000 \n",
      "Review 19000 of 75000 \n",
      "Review 20000 of 75000 \n",
      "Review 21000 of 75000 \n",
      "Review 22000 of 75000 \n",
      "Review 23000 of 75000 \n",
      "Review 24000 of 75000 \n",
      "Review 25000 of 75000 \n",
      "Review 26000 of 75000 \n",
      "Review 27000 of 75000 \n",
      "Review 28000 of 75000 \n",
      "Review 29000 of 75000 \n",
      "Review 30000 of 75000 \n",
      "Review 31000 of 75000 \n",
      "Review 32000 of 75000 \n",
      "Review 33000 of 75000 \n",
      "Review 34000 of 75000 \n",
      "Review 35000 of 75000 \n",
      "Review 36000 of 75000 \n",
      "Review 37000 of 75000 \n",
      "Review 38000 of 75000 \n",
      "Review 39000 of 75000 \n",
      "Review 40000 of 75000 \n",
      "Review 41000 of 75000 \n",
      "Review 42000 of 75000 \n",
      "Review 43000 of 75000 \n",
      "Review 44000 of 75000 \n",
      "Review 45000 of 75000 \n",
      "Review 46000 of 75000 \n",
      "Review 47000 of 75000 \n",
      "Review 48000 of 75000 \n",
      "Review 49000 of 75000 \n",
      "Review 50000 of 75000 \n",
      "Review 51000 of 75000 \n",
      "Review 52000 of 75000 \n",
      "Review 53000 of 75000 \n",
      "Review 54000 of 75000 \n",
      "Review 55000 of 75000 \n",
      "Review 56000 of 75000 \n",
      "Review 57000 of 75000 \n",
      "Review 58000 of 75000 \n",
      "Review 59000 of 75000 \n",
      "Review 60000 of 75000 \n",
      "Review 61000 of 75000 \n",
      "Review 62000 of 75000 \n",
      "Review 63000 of 75000 \n",
      "Review 64000 of 75000 \n",
      "Review 65000 of 75000 \n",
      "Review 66000 of 75000 \n",
      "Review 67000 of 75000 \n",
      "Review 68000 of 75000 \n",
      "Review 69000 of 75000 \n",
      "Review 70000 of 75000 \n",
      "Review 71000 of 75000 \n",
      "Review 72000 of 75000 \n",
      "Review 73000 of 75000 \n",
      "Review 74000 of 75000 \n",
      "Creating average feature vecs for test reviews\n",
      "Review 0 of 25000 \n",
      "Review 1000 of 25000 \n",
      "Review 2000 of 25000 \n",
      "Review 3000 of 25000 \n",
      "Review 4000 of 25000 \n",
      "Review 5000 of 25000 \n",
      "Review 6000 of 25000 \n",
      "Review 7000 of 25000 \n",
      "Review 8000 of 25000 \n",
      "Review 9000 of 25000 \n",
      "Review 10000 of 25000 \n",
      "Review 11000 of 25000 \n",
      "Review 12000 of 25000 \n",
      "Review 13000 of 25000 \n",
      "Review 14000 of 25000 \n",
      "Review 15000 of 25000 \n",
      "Review 16000 of 25000 \n",
      "Review 17000 of 25000 \n",
      "Review 18000 of 25000 \n",
      "Review 19000 of 25000 \n",
      "Review 20000 of 25000 \n",
      "Review 21000 of 25000 \n",
      "Review 22000 of 25000 \n",
      "Review 23000 of 25000 \n",
      "Review 24000 of 25000 \n"
     ]
    }
   ],
   "source": [
    "def makeFeatureVec(words, model, num_features):\n",
    "    # Function to average all of the word vectors in a given\n",
    "    # paragraph\n",
    "    #\n",
    "    # Pre-initialize an empty numpy array (for speed)\n",
    "    featureVec = np.zeros((num_features,),dtype=\"float32\")\n",
    "    #\n",
    "    nwords = 0.\n",
    "    # \n",
    "    # Index2word is a list that contains the names of the words in \n",
    "    # the model's vocabulary. Convert it to a set, for speed \n",
    "    index2word_set = set(model.wv.index2word)\n",
    "    #\n",
    "    # Loop over each word in the review and, if it is in the model's\n",
    "    # vocaublary, add its feature vector to the total\n",
    "    for word in words:\n",
    "        if word in index2word_set: \n",
    "            nwords = nwords + 1.\n",
    "            featureVec = np.add(featureVec,model[word])\n",
    "    # \n",
    "    # Divide the result by the number of words to get the average\n",
    "    featureVec = np.divide(featureVec,nwords)\n",
    "    return featureVec\n",
    "\n",
    "\n",
    "def getAvgFeatureVecs(reviews, model, num_features):\n",
    "    # Given a set of reviews (each one a list of words), calculate \n",
    "    # the average feature vector for each one and return a 2D numpy array \n",
    "    # \n",
    "    # Initialize a counter\n",
    "    counter = 0\n",
    "    # \n",
    "    # Preallocate a 2D numpy array, for speed\n",
    "    reviewFeatureVecs = np.zeros((len(reviews),num_features),dtype=\"float32\")\n",
    "    # \n",
    "    # Loop through the reviews\n",
    "    for review in reviews:\n",
    "        if counter % 1000 == 0:\n",
    "            print(\"Review %d of %d \" % (counter, len(reviews)))\n",
    "\n",
    "        reviewFeatureVecs[counter] = makeFeatureVec(review, model, num_features)\n",
    "        \n",
    "        counter += 1 \n",
    "    return reviewFeatureVecs\n",
    "\n",
    "clean_train_reviews = []\n",
    "for review in train_data[\"review\"]:\n",
    "    clean_train_reviews.append( review_to_wordlist( review, remove_stopwords=True ))\n",
    "\n",
    "trainDataVecs = getAvgFeatureVecs( clean_train_reviews, model, num_features )\n",
    "\n",
    "print(\"Creating average feature vecs for test reviews\")\n",
    "clean_test_reviews = []\n",
    "for review in test[\"review\"]:\n",
    "    clean_test_reviews.append( review_to_wordlist( review, remove_stopwords=True ))\n",
    "\n",
    "testDataVecs = getAvgFeatureVecs( clean_test_reviews, model, num_features )"
   ]
  },
  {
   "cell_type": "markdown",
   "metadata": {},
   "source": [
    "## Evaluation in train data"
   ]
  },
  {
   "cell_type": "code",
   "execution_count": 15,
   "metadata": {},
   "outputs": [
    {
     "name": "stdout",
     "output_type": "stream",
     "text": [
      "Splitting Done\n",
      "Predictions Done\n",
      "f1 : 0.9250645994832042\n",
      "cm :\n",
      " [[6888  595]\n",
      " [ 536 6981]]\n",
      "accuracy : 0.9246\n"
     ]
    }
   ],
   "source": [
    "evaluate_train_val(trainDataVecs, train_data)"
   ]
  },
  {
   "cell_type": "markdown",
   "metadata": {},
   "source": [
    "## Fit model"
   ]
  },
  {
   "cell_type": "code",
   "execution_count": 16,
   "metadata": {},
   "outputs": [
    {
     "name": "stdout",
     "output_type": "stream",
     "text": [
      "Fitting a random forest to labeled training data...\n"
     ]
    }
   ],
   "source": [
    "forest = RandomForestClassifier( n_estimators = 100 )\n",
    "\n",
    "print(\"Fitting a random forest to labeled training data...\")\n",
    "forest = forest.fit(trainDataVecs, train_data[\"sentiment\"] )\n",
    "\n",
    "# Test & extract results \n",
    "result = forest.predict(testDataVecs)\n",
    "\n",
    "# Write the test results \n",
    "output = pd.DataFrame( data={\"id\":test[\"id\"], \"sentiment\":result} )\n",
    "output.to_csv( \"submissions/Word2Vec_AverageVectors_added_data.csv\", index=False, quoting=3 )"
   ]
  },
  {
   "cell_type": "markdown",
   "metadata": {},
   "source": [
    "## Review -> Clustering features"
   ]
  },
  {
   "cell_type": "code",
   "execution_count": 18,
   "metadata": {},
   "outputs": [
    {
     "name": "stderr",
     "output_type": "stream",
     "text": [
      "/Users/hardikmalhotra/anaconda2/envs/scikit/lib/python3.7/site-packages/ipykernel_launcher.py:5: DeprecationWarning: Call to deprecated `syn0` (Attribute will be removed in 4.0.0, use self.vectors instead).\n",
      "  \"\"\"\n"
     ]
    },
    {
     "name": "stdout",
     "output_type": "stream",
     "text": [
      "Time taken for K Means clustering:  2435.9109950065613 seconds.\n"
     ]
    }
   ],
   "source": [
    "start = time.time() # Start time\n",
    "\n",
    "# Set \"k\" (num_clusters) to be 1/5th of the vocabulary size, or an\n",
    "# average of 5 words per cluster\n",
    "word_vectors = model.wv.syn0\n",
    "num_clusters = int(word_vectors.shape[0] / 5)\n",
    "\n",
    "# Initalize a k-means object and use it to extract centroids\n",
    "kmeans_clustering = KMeans( n_clusters = num_clusters )\n",
    "idx = kmeans_clustering.fit_predict( word_vectors )\n",
    "\n",
    "# Get the end time and print how long the process took\n",
    "end = time.time()\n",
    "elapsed = end - start\n",
    "print (\"Time taken for K Means clustering: \", elapsed, \"seconds.\")"
   ]
  },
  {
   "cell_type": "code",
   "execution_count": 19,
   "metadata": {},
   "outputs": [],
   "source": [
    "word_centroid_map = dict(zip( model.wv.index2word, idx ))"
   ]
  },
  {
   "cell_type": "code",
   "execution_count": 20,
   "metadata": {},
   "outputs": [],
   "source": [
    "def create_bag_of_centroids( wordlist, word_centroid_map ):\n",
    "    #\n",
    "    # The number of clusters is equal to the highest cluster index\n",
    "    # in the word / centroid map\n",
    "    num_centroids = max( word_centroid_map.values() ) + 1\n",
    "    #\n",
    "    # Pre-allocate the bag of centroids vector (for speed)\n",
    "    bag_of_centroids = np.zeros( num_centroids, dtype=\"float32\" )\n",
    "    #\n",
    "    # Loop over the words in the review. If the word is in the vocabulary,\n",
    "    # find which cluster it belongs to, and increment that cluster count \n",
    "    # by one\n",
    "    for word in wordlist:\n",
    "        if word in word_centroid_map:\n",
    "            index = word_centroid_map[word]\n",
    "            bag_of_centroids[index] += 1\n",
    "    #\n",
    "    # Return the \"bag of centroids\"\n",
    "    return bag_of_centroids"
   ]
  },
  {
   "cell_type": "code",
   "execution_count": 21,
   "metadata": {},
   "outputs": [],
   "source": [
    "# Pre-allocate an array for the training set bags of centroids (for speed)\n",
    "train_centroids = np.zeros( (train_data[\"review\"].size, num_clusters), dtype=\"float32\" )\n",
    "\n",
    "# Transform the training set reviews into bags of centroids\n",
    "counter = 0\n",
    "for review in clean_train_reviews:\n",
    "    train_centroids[counter] = create_bag_of_centroids( review, word_centroid_map )\n",
    "    counter += 1\n",
    "\n",
    "# Repeat for test reviews \n",
    "test_centroids = np.zeros(( test[\"review\"].size, num_clusters), dtype=\"float32\" )\n",
    "\n",
    "counter = 0\n",
    "for review in clean_test_reviews:\n",
    "    test_centroids[counter] = create_bag_of_centroids( review, word_centroid_map )\n",
    "    counter += 1"
   ]
  },
  {
   "cell_type": "markdown",
   "metadata": {},
   "source": [
    "## Evaluation"
   ]
  },
  {
   "cell_type": "code",
   "execution_count": 22,
   "metadata": {},
   "outputs": [
    {
     "name": "stdout",
     "output_type": "stream",
     "text": [
      "Splitting Done\n",
      "Predictions Done\n",
      "f1 : 0.9325662295959325\n",
      "cm :\n",
      " [[7022  461]\n",
      " [ 547 6970]]\n",
      "accuracy : 0.9328\n"
     ]
    }
   ],
   "source": [
    "evaluate_train_val(train_centroids, train_data)"
   ]
  },
  {
   "cell_type": "code",
   "execution_count": null,
   "metadata": {},
   "outputs": [],
   "source": [
    "print(\"Fitting a random forest to labeled training data...\")\n",
    "forest = forest.fit(train_centroids,train_data[\"sentiment\"])\n",
    "result = forest.predict(test_centroids)\n",
    "\n",
    "# Write the test results \n",
    "output = pd.DataFrame(data={\"id\":test[\"id\"], \"sentiment\":result})\n",
    "output.to_csv( \"submissions/BagOfCentroids.csv\", index=False, quoting=3 )"
   ]
  },
  {
   "cell_type": "code",
   "execution_count": null,
   "metadata": {},
   "outputs": [],
   "source": []
  }
 ],
 "metadata": {
  "kernelspec": {
   "display_name": "Python (scikit)",
   "language": "python",
   "name": "scikit"
  },
  "language_info": {
   "codemirror_mode": {
    "name": "ipython",
    "version": 3
   },
   "file_extension": ".py",
   "mimetype": "text/x-python",
   "name": "python",
   "nbconvert_exporter": "python",
   "pygments_lexer": "ipython3",
   "version": "3.7.4"
  }
 },
 "nbformat": 4,
 "nbformat_minor": 4
}
